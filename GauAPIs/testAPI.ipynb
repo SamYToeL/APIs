{
 "cells": [
  {
   "cell_type": "code",
   "execution_count": null,
   "metadata": {},
   "outputs": [],
   "source": [
    "from GauAPIs.Molecule import Molecule\n",
    "from GauAPIs import New_Calculator\n",
    "from sys import argv\n",
    "import numpy as np\n",
    "import os\n"
   ]
  },
  {
   "cell_type": "code",
   "execution_count": null,
   "metadata": {},
   "outputs": [],
   "source": [
    "#define a temperate way to quickly test the feasibility of xtb API\n",
    "filein = ''\n",
    "fileout = 'test_res.out'\n",
    "\n",
    "def get_external_coord(filein):\n",
    "    with open(filein, 'r') as f:\n",
    "        [atoms, deriva, charge ,spin] = [int(s) for s in f.readline().split()]\n",
    "        ele = np.zeros((atoms,), dtype = int)\n",
    "        \n",
    "        atomlist = np.zeros((atoms,3), dtype = float)\n",
    "\n",
    "        for i in range(atoms):\n",
    "            axestr = f.readline().split()\n",
    "            ele[i] = int(axestr[0])\n",
    "            atomlist[i][0] = float(axestr[1])*0.52917724\n",
    "            atomlist[i][1] = float(axestr[2])*0.52917724\n",
    "            atomlist[i][2] = float(axestr[3])*0.52917724\n",
    "    return ele, atomlist, deriva, charge, spin\n",
    "\n",
    "\n"
   ]
  },
  {
   "cell_type": "code",
   "execution_count": null,
   "metadata": {},
   "outputs": [],
   "source": [
    "\n",
    "#print(ele, atomlist, deriva, charge, spin)\n",
    "import numpy as np\n",
    "elelist, coors, deriva, charge, spin = get_external_coord(filein)\n",
    "print(deriva, charge, spin)\n",
    "Mole = Molecule(elelist,coors,charge,spin,'testorc')\n",
    "#Ene, Gradient = New_Calculator.calculate_mol_xTB(Mole,1)\n",
    "#print(Ene)\n",
    "#print(Gradient)\n"
   ]
  },
  {
   "cell_type": "code",
   "execution_count": null,
   "metadata": {},
   "outputs": [],
   "source": [
    "try:\n",
    "    from xtb.libxtb import VERBOSITY_FULL, VERBOSITY_MINIMAL, VERBOSITY_MUTED\n",
    "    from xtb.interface import Environment, Calculator, Param\n",
    "except ImportError:\n",
    "    print('no xTB module found.')\n",
    "env = Environment()\n",
    "env.set_output(\"env_error.log\")\n",
    "env.set_verbosity(VERBOSITY_FULL)\n",
    "if env.check != 0:\n",
    "    env.show(\"Error message\")\n",
    "env.release_output()\n",
    "\n",
    "os.system('export OMP_NUM_THREADS=4')\n",
    "os.system('export MKL_NUM_THREADS=4')"
   ]
  },
  {
   "cell_type": "code",
   "execution_count": null,
   "metadata": {},
   "outputs": [],
   "source": [
    "def calculate_mol_xTB(mol,xtbpara):\n",
    "    #first solve the environment\n",
    "    try:\n",
    "        from xtb.libxtb import VERBOSITY_FULL, VERBOSITY_MINIMAL\n",
    "        from xtb.interface import Environment, Calculator, Param\n",
    "    except ImportError:\n",
    "        print('no xTB module found.')\n",
    "    \n",
    "    env = Environment()\n",
    "    env.set_output(\"env_error.log\")\n",
    "    env.set_verbosity(VERBOSITY_FULL)\n",
    "    if env.check != 0:\n",
    "        env.show(\"Error message\")\n",
    "    env.release_output()\n",
    "\n",
    "    xtbpara = Param(xtbpara)\n",
    "    #define structure data for molecule\n",
    "    eles_nums = mol.elements\n",
    "    coors = mol.coordinates\n",
    "    coors = np.divide(coors,0.52917724)\n",
    "    #define calculator based on input xtbpara and mol\n",
    "    calc = Calculator(xtbpara,eles_nums,coors)\n",
    "    calc.set_verbosity(VERBOSITY_MINIMAL)\n",
    "    #Calculation\n",
    "    res = calc.singlepoint()\n",
    "    Ene = res.get_energy()\n",
    "    Grad = res.get_gradient()\n",
    "    print(Ene,Grad)\n",
    "    return Ene, Grad"
   ]
  },
  {
   "cell_type": "code",
   "execution_count": null,
   "metadata": {},
   "outputs": [],
   "source": [
    "calculate_mol_xTB(Mole,1)"
   ]
  },
  {
   "cell_type": "code",
   "execution_count": null,
   "metadata": {},
   "outputs": [],
   "source": [
    "\n",
    "mol = Mole\n",
    "#define structure data for molecule\n",
    "eles_nums = mol.elements\n",
    "coors = mol.coordinates\n",
    "#print(eles_nums)\n",
    "#print(coors)\n",
    "#define calculator based on input xtbpara and mol\n",
    "\n",
    "calc = Calculator(Param.GFN2xTB, eles_nums, coors)\n",
    "calc.set_verbosity(VERBOSITY_MINIMAL)\n",
    "calc.set_verbosity(VERBOSITY_MUTED) \n",
    "res = calc.singlepoint()\n",
    "res.get_gradient()\n",
    "#res.get_bond_orders()\n"
   ]
  },
  {
   "cell_type": "code",
   "execution_count": null,
   "metadata": {},
   "outputs": [],
   "source": [
    "numbers = np.array([8, 1, 1])\n",
    "positions = np.array([\n",
    "[ 0.00000000000000, 0.00000000000000,-0.73578586109551],\n",
    "[ 1.44183152868459, 0.00000000000000, 0.36789293054775],\n",
    "[-1.44183152868459, 0.00000000000000, 0.36789293054775]])\n",
    "\n",
    "print(numbers)\n",
    "print(positions)\n",
    "calc = Calculator(Param.GFN2xTB, numbers, positions)\n",
    "calc.set_verbosity(VERBOSITY_MINIMAL)\n",
    "res = calc.singlepoint()\n",
    "print(res.get_gradient())\n",
    "print('*'*10)\n",
    "res.get_bond_orders()"
   ]
  },
  {
   "cell_type": "code",
   "execution_count": null,
   "metadata": {},
   "outputs": [],
   "source": [
    "\n",
    "global eleslist\n",
    "eleslist = ['H','He',\n",
    "        'Li','Be','B','C','N','O','F','Ne',\n",
    "        'Na','Mg','Al','Si','P','S','Cl','Ar',\n",
    "        'K','Ca','Sc','Ti','V','Cr','Mn','Fe','Co','Ni','Cu','Zn','Ga','Ge','As','Se','Br','Kr']\n",
    "\n"
   ]
  },
  {
   "cell_type": "code",
   "execution_count": null,
   "metadata": {},
   "outputs": [],
   "source": []
  },
  {
   "cell_type": "code",
   "execution_count": null,
   "metadata": {},
   "outputs": [],
   "source": [
    "#mol2xyz(Mole)\n",
    "\n",
    "nums = Mole.get_num_atoms()\n",
    "print(Mole.elements)\n",
    "fw = open('/share/home/Liaoyt/APIs/test.xyz','w')\n",
    "fw.write('%d\\n\\n'%(nums))\n",
    "for i in range(nums):\n",
    "    print('1')\n",
    "    fw.write('%s %f %f %f\\n'%(eleslist[Mole.elements[i]-1],Mole.coordinates[i][0],Mole.coordinates[i][1],Mole.coordinates[i][2]))\n",
    "fw.write('\\n')\n",
    "fw.close()        "
   ]
  },
  {
   "cell_type": "code",
   "execution_count": null,
   "metadata": {},
   "outputs": [],
   "source": [
    "#ANI \n",
    "\n",
    "try:\n",
    "    import torch\n",
    "    import torchani\n",
    "    device = torch.device('cuda' if torch.cuda.is_available() else 'cpu')\n",
    "\n",
    "except ImportError:\n",
    "    print('no ANI module found')\n",
    "\n",
    "\n",
    "\n",
    "model = torchani.models.ANI2x(periodic_table_index=True).to(device).double()"
   ]
  },
  {
   "cell_type": "code",
   "execution_count": null,
   "metadata": {},
   "outputs": [],
   "source": [
    "\n",
    "def calculate_mol_ani(mol,methodani):\n",
    "    if methodani.lower() in ['ani-1x', 'ani-2x','ani-1ccx']:\n",
    "        if methodani.lower() == 'ani-2x':\n",
    "            model = torchani.models.ANI2x(periodic_table_index=True).to(device).double()\n",
    "        elif methodani.lower() == 'ani-1ccx':\n",
    "            model = torchani.models.ANI1ccx(periodic_table_index=True).to(device).double()\n",
    "        elif methodani.lower() == 'ani-1x':\n",
    "            model = torchani.models.ANI1x(periodic_table_index=True).to(device).double()\n",
    "        else:\n",
    "            print('Error: Method not recognised, Using ANI2x instead')\n",
    "            model = torchani.models.ANI2x(periodic_table_index=True).to(device).double()\n",
    "    \n",
    "    print(Mole.elements)\n",
    "    #have to convert from np to tensor \n",
    "    coordinates = torch.from_numpy(mol.coordinates).requires_grad_(True).unsqueeze(0)\n",
    "    species = torch.from_numpy(mol.elements).unsqueeze(0)\n",
    "    ene = model((species, coordinates)).energies\n",
    "    derivative = torch.autograd.grad(ene.sum(), coordinates)[0]\n",
    "    force = -derivative\n",
    "    #convert tensor to numpy and return\n",
    "    return ene.item(),derivative.numpy()\n"
   ]
  },
  {
   "cell_type": "code",
   "execution_count": null,
   "metadata": {},
   "outputs": [],
   "source": [
    "a,b = calculate_mol_ani(Mole,'ani-2x')\n"
   ]
  },
  {
   "cell_type": "code",
   "execution_count": null,
   "metadata": {},
   "outputs": [],
   "source": [
    "#aiqm test\n",
    "import mlatom as ml\n",
    "import os\n",
    "\n",
    "def mol2xyz(mol):\n",
    "    nums = mol.get_num_atoms()\n",
    "    print(mol.elements)\n",
    "    fw = open('/share/home/Liaoyt/APIs/test.xyz','w')\n",
    "    fw.write('%d\\n\\n'%(nums))\n",
    "    for i in range(nums):\n",
    "        fw.write('%s %f %f %f\\n'%(eleslist[mol.elements[i]-1],mol.coordinates[i][0],mol.coordinates[i][1],mol.coordinates[i][2]))\n",
    "    fw.write('\\n')\n",
    "    fw.close()        \n"
   ]
  },
  {
   "cell_type": "code",
   "execution_count": null,
   "metadata": {},
   "outputs": [],
   "source": [
    "\n",
    "def calculate_mol_mlatom(xyzfile,charge,spin,methodmlatm):\n",
    "    #read molecule in \n",
    "    mol = ml.data.molecule.from_xyz_file(xyzfile)\n",
    "    mol.charge = charge\n",
    "    mol.multiplicity = spin\n",
    "    #define model\n",
    "    model = ml.models.methods(method=methodmlatm)\n",
    "    \n",
    "    #calculate energy and force\n",
    "    model.predict(molecule=mol)\n",
    "\n",
    "    ene = mol.energy\n",
    "    grad = mol.get_energy_gradients()\n",
    "    return ene,grad\n",
    "\n",
    "\n",
    "#os.system(\"export mndobin=/share/apps/MNDO/BIN/mndo\")\n",
    "#os.system('export dftd4bin=/share/home/Liaoyt/app/dftd4-3.5.0/bin/dftd4')\n"
   ]
  },
  {
   "cell_type": "code",
   "execution_count": 2,
   "metadata": {},
   "outputs": [
    {
     "name": "stdout",
     "output_type": "stream",
     "text": [
      "There is no gradient information in fort.15. Please check your input!\n"
     ]
    }
   ],
   "source": [
    "#os.system('source /share/home/Liaoyt/bin/env/aiqm1-env.sh')\n",
    "import mlatom as ml\n",
    "xyz = '/share/home/Liaoyt/apiTEst/AIQM1-input.xyz'\n",
    "mol = ml.data.molecule.from_xyz_file(xyz)\n",
    "charge=-1\n",
    "spin=1\n",
    "model = ml.models.methods(method='AIQM1')\n",
    "model.predict(molecule=mol)\n",
    "\n"
   ]
  },
  {
   "cell_type": "code",
   "execution_count": null,
   "metadata": {},
   "outputs": [],
   "source": [
    "def Get_orca_grad(outname,mol):\n",
    "    fg = open(outname,\"r\")\n",
    "    lines = fg.readlines()\n",
    "    fg.close()\n",
    "    nums = mol.get_num_atoms()\n",
    "    print(nums)\n",
    "    grad_arr = np.zeros((nums,3),dtype=float)\n",
    "    for line in lines:  \n",
    "        if \"CARTESIAN GRADIENT\" in line:\n",
    "            index_of_grad = lines.index(line)\n",
    "            break\n",
    "        counts = 0\n",
    "    for grads in lines[index_of_grad+3:index_of_grad+2+nums]:\n",
    "        print(counts)\n",
    "        grad_arr[counts] = np.array([float(grads.split()[3]),float(grads.split()[4]),float(grads.split()[5])])\n",
    "        print(grad_arr)\n",
    "        counts += 1\n",
    "    \n",
    "    return grad_arr"
   ]
  },
  {
   "cell_type": "code",
   "execution_count": null,
   "metadata": {},
   "outputs": [],
   "source": [
    "grad_arr = np.zeros((6,3),dtype=float)\n",
    "for i in range(len(grad_arr)):\n",
    "    grad_arr[i] = np.array([1,1,1])\n",
    "    print(grad_arr)"
   ]
  },
  {
   "cell_type": "code",
   "execution_count": null,
   "metadata": {},
   "outputs": [],
   "source": [
    "test_grad = Get_orca_grad('/share/home/Liaoyt/APIs/testorc.log',Mole)"
   ]
  }
 ],
 "metadata": {
  "kernelspec": {
   "display_name": "Strain_VIZ",
   "language": "python",
   "name": "python3"
  },
  "language_info": {
   "codemirror_mode": {
    "name": "ipython",
    "version": 3
   },
   "file_extension": ".py",
   "mimetype": "text/x-python",
   "name": "python",
   "nbconvert_exporter": "python",
   "pygments_lexer": "ipython3",
   "version": "3.9.19"
  }
 },
 "nbformat": 4,
 "nbformat_minor": 2
}
